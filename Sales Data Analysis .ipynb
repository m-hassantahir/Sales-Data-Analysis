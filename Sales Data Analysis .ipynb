{
 "cells": [
  {
   "cell_type": "code",
   "execution_count": 1,
   "id": "fb786b4b",
   "metadata": {},
   "outputs": [],
   "source": [
    "import pandas as pd\n",
    "import glob"
   ]
  },
  {
   "cell_type": "markdown",
   "id": "ff59cd2d",
   "metadata": {},
   "source": [
    "## Question 1: Open all .csv files in the folder."
   ]
  },
  {
   "cell_type": "code",
   "execution_count": 2,
   "id": "ea0c4e56",
   "metadata": {},
   "outputs": [],
   "source": [
    "folder_path = 'C:/Users/Falcons/Desktop/Python/Projects/KeithGalli/SalesAnalysis/Sales_Data'\n",
    "csv_files = glob.glob(folder_path + '/*.csv')\n",
    "df_list = (pd.read_csv(file) for file in csv_files)\n",
    "df_all = pd.concat(df_list, ignore_index=True)"
   ]
  },
  {
   "cell_type": "code",
   "execution_count": 4,
   "id": "45a6750c",
   "metadata": {},
   "outputs": [],
   "source": [
    "df_ordered = df_all.sort_values(by=['Order Date'], ascending=True)"
   ]
  },
  {
   "cell_type": "code",
   "execution_count": 5,
   "id": "494a30f7",
   "metadata": {},
   "outputs": [
    {
     "data": {
      "text/html": [
       "<div>\n",
       "<style scoped>\n",
       "    .dataframe tbody tr th:only-of-type {\n",
       "        vertical-align: middle;\n",
       "    }\n",
       "\n",
       "    .dataframe tbody tr th {\n",
       "        vertical-align: top;\n",
       "    }\n",
       "\n",
       "    .dataframe thead th {\n",
       "        text-align: right;\n",
       "    }\n",
       "</style>\n",
       "<table border=\"1\" class=\"dataframe\">\n",
       "  <thead>\n",
       "    <tr style=\"text-align: right;\">\n",
       "      <th></th>\n",
       "      <th>Order ID</th>\n",
       "      <th>Product</th>\n",
       "      <th>Quantity Ordered</th>\n",
       "      <th>Price Each</th>\n",
       "      <th>Order Date</th>\n",
       "      <th>Purchase Address</th>\n",
       "    </tr>\n",
       "  </thead>\n",
       "  <tbody>\n",
       "    <tr>\n",
       "      <th>count</th>\n",
       "      <td>186305</td>\n",
       "      <td>186305</td>\n",
       "      <td>186305</td>\n",
       "      <td>186305</td>\n",
       "      <td>186305</td>\n",
       "      <td>186305</td>\n",
       "    </tr>\n",
       "    <tr>\n",
       "      <th>unique</th>\n",
       "      <td>178438</td>\n",
       "      <td>20</td>\n",
       "      <td>10</td>\n",
       "      <td>24</td>\n",
       "      <td>142396</td>\n",
       "      <td>140788</td>\n",
       "    </tr>\n",
       "    <tr>\n",
       "      <th>top</th>\n",
       "      <td>Order ID</td>\n",
       "      <td>USB-C Charging Cable</td>\n",
       "      <td>1</td>\n",
       "      <td>11.95</td>\n",
       "      <td>Order Date</td>\n",
       "      <td>Purchase Address</td>\n",
       "    </tr>\n",
       "    <tr>\n",
       "      <th>freq</th>\n",
       "      <td>355</td>\n",
       "      <td>21903</td>\n",
       "      <td>168552</td>\n",
       "      <td>21903</td>\n",
       "      <td>355</td>\n",
       "      <td>355</td>\n",
       "    </tr>\n",
       "  </tbody>\n",
       "</table>\n",
       "</div>"
      ],
      "text/plain": [
       "        Order ID               Product Quantity Ordered Price Each  \\\n",
       "count     186305                186305           186305     186305   \n",
       "unique    178438                    20               10         24   \n",
       "top     Order ID  USB-C Charging Cable                1      11.95   \n",
       "freq         355                 21903           168552      21903   \n",
       "\n",
       "        Order Date  Purchase Address  \n",
       "count       186305            186305  \n",
       "unique      142396            140788  \n",
       "top     Order Date  Purchase Address  \n",
       "freq           355               355  "
      ]
     },
     "execution_count": 5,
     "metadata": {},
     "output_type": "execute_result"
    }
   ],
   "source": [
    "df_ordered.describe()"
   ]
  },
  {
   "cell_type": "code",
   "execution_count": 6,
   "id": "0940c5cd",
   "metadata": {},
   "outputs": [],
   "source": [
    "df_numbers = df_ordered.dropna(axis=0, how='any')"
   ]
  },
  {
   "cell_type": "code",
   "execution_count": 7,
   "id": "307bd032",
   "metadata": {
    "scrolled": true
   },
   "outputs": [
    {
     "data": {
      "text/html": [
       "<div>\n",
       "<style scoped>\n",
       "    .dataframe tbody tr th:only-of-type {\n",
       "        vertical-align: middle;\n",
       "    }\n",
       "\n",
       "    .dataframe tbody tr th {\n",
       "        vertical-align: top;\n",
       "    }\n",
       "\n",
       "    .dataframe thead th {\n",
       "        text-align: right;\n",
       "    }\n",
       "</style>\n",
       "<table border=\"1\" class=\"dataframe\">\n",
       "  <thead>\n",
       "    <tr style=\"text-align: right;\">\n",
       "      <th></th>\n",
       "      <th>Order ID</th>\n",
       "      <th>Product</th>\n",
       "      <th>Quantity Ordered</th>\n",
       "      <th>Price Each</th>\n",
       "      <th>Order Date</th>\n",
       "      <th>Purchase Address</th>\n",
       "    </tr>\n",
       "  </thead>\n",
       "  <tbody>\n",
       "    <tr>\n",
       "      <th>32511</th>\n",
       "      <td>297674</td>\n",
       "      <td>AAA Batteries (4-pack)</td>\n",
       "      <td>1</td>\n",
       "      <td>2.99</td>\n",
       "      <td>12/31/19 23:53</td>\n",
       "      <td>425 Lake St, Portland, OR 97035</td>\n",
       "    </tr>\n",
       "    <tr>\n",
       "      <th>51542</th>\n",
       "      <td>Order ID</td>\n",
       "      <td>Product</td>\n",
       "      <td>Quantity Ordered</td>\n",
       "      <td>Price Each</td>\n",
       "      <td>Order Date</td>\n",
       "      <td>Purchase Address</td>\n",
       "    </tr>\n",
       "    <tr>\n",
       "      <th>179487</th>\n",
       "      <td>Order ID</td>\n",
       "      <td>Product</td>\n",
       "      <td>Quantity Ordered</td>\n",
       "      <td>Price Each</td>\n",
       "      <td>Order Date</td>\n",
       "      <td>Purchase Address</td>\n",
       "    </tr>\n",
       "    <tr>\n",
       "      <th>9329</th>\n",
       "      <td>Order ID</td>\n",
       "      <td>Product</td>\n",
       "      <td>Quantity Ordered</td>\n",
       "      <td>Price Each</td>\n",
       "      <td>Order Date</td>\n",
       "      <td>Purchase Address</td>\n",
       "    </tr>\n",
       "    <tr>\n",
       "      <th>80956</th>\n",
       "      <td>Order ID</td>\n",
       "      <td>Product</td>\n",
       "      <td>Quantity Ordered</td>\n",
       "      <td>Price Each</td>\n",
       "      <td>Order Date</td>\n",
       "      <td>Purchase Address</td>\n",
       "    </tr>\n",
       "    <tr>\n",
       "      <th>...</th>\n",
       "      <td>...</td>\n",
       "      <td>...</td>\n",
       "      <td>...</td>\n",
       "      <td>...</td>\n",
       "      <td>...</td>\n",
       "      <td>...</td>\n",
       "    </tr>\n",
       "    <tr>\n",
       "      <th>26140</th>\n",
       "      <td>Order ID</td>\n",
       "      <td>Product</td>\n",
       "      <td>Quantity Ordered</td>\n",
       "      <td>Price Each</td>\n",
       "      <td>Order Date</td>\n",
       "      <td>Purchase Address</td>\n",
       "    </tr>\n",
       "    <tr>\n",
       "      <th>94767</th>\n",
       "      <td>Order ID</td>\n",
       "      <td>Product</td>\n",
       "      <td>Quantity Ordered</td>\n",
       "      <td>Price Each</td>\n",
       "      <td>Order Date</td>\n",
       "      <td>Purchase Address</td>\n",
       "    </tr>\n",
       "    <tr>\n",
       "      <th>186563</th>\n",
       "      <td>Order ID</td>\n",
       "      <td>Product</td>\n",
       "      <td>Quantity Ordered</td>\n",
       "      <td>Price Each</td>\n",
       "      <td>Order Date</td>\n",
       "      <td>Purchase Address</td>\n",
       "    </tr>\n",
       "    <tr>\n",
       "      <th>91799</th>\n",
       "      <td>Order ID</td>\n",
       "      <td>Product</td>\n",
       "      <td>Quantity Ordered</td>\n",
       "      <td>Price Each</td>\n",
       "      <td>Order Date</td>\n",
       "      <td>Purchase Address</td>\n",
       "    </tr>\n",
       "    <tr>\n",
       "      <th>124955</th>\n",
       "      <td>Order ID</td>\n",
       "      <td>Product</td>\n",
       "      <td>Quantity Ordered</td>\n",
       "      <td>Price Each</td>\n",
       "      <td>Order Date</td>\n",
       "      <td>Purchase Address</td>\n",
       "    </tr>\n",
       "  </tbody>\n",
       "</table>\n",
       "<p>356 rows × 6 columns</p>\n",
       "</div>"
      ],
      "text/plain": [
       "        Order ID                 Product  Quantity Ordered  Price Each  \\\n",
       "32511     297674  AAA Batteries (4-pack)                 1        2.99   \n",
       "51542   Order ID                 Product  Quantity Ordered  Price Each   \n",
       "179487  Order ID                 Product  Quantity Ordered  Price Each   \n",
       "9329    Order ID                 Product  Quantity Ordered  Price Each   \n",
       "80956   Order ID                 Product  Quantity Ordered  Price Each   \n",
       "...          ...                     ...               ...         ...   \n",
       "26140   Order ID                 Product  Quantity Ordered  Price Each   \n",
       "94767   Order ID                 Product  Quantity Ordered  Price Each   \n",
       "186563  Order ID                 Product  Quantity Ordered  Price Each   \n",
       "91799   Order ID                 Product  Quantity Ordered  Price Each   \n",
       "124955  Order ID                 Product  Quantity Ordered  Price Each   \n",
       "\n",
       "            Order Date                 Purchase Address  \n",
       "32511   12/31/19 23:53  425 Lake St, Portland, OR 97035  \n",
       "51542       Order Date                 Purchase Address  \n",
       "179487      Order Date                 Purchase Address  \n",
       "9329        Order Date                 Purchase Address  \n",
       "80956       Order Date                 Purchase Address  \n",
       "...                ...                              ...  \n",
       "26140       Order Date                 Purchase Address  \n",
       "94767       Order Date                 Purchase Address  \n",
       "186563      Order Date                 Purchase Address  \n",
       "91799       Order Date                 Purchase Address  \n",
       "124955      Order Date                 Purchase Address  \n",
       "\n",
       "[356 rows x 6 columns]"
      ]
     },
     "execution_count": 7,
     "metadata": {},
     "output_type": "execute_result"
    }
   ],
   "source": [
    "df_numbers.tail(356)"
   ]
  },
  {
   "cell_type": "code",
   "execution_count": 8,
   "id": "08d323c8",
   "metadata": {},
   "outputs": [],
   "source": [
    "df_2 = df_numbers.iloc[:-355]"
   ]
  },
  {
   "cell_type": "code",
   "execution_count": 9,
   "id": "86a915f6",
   "metadata": {},
   "outputs": [],
   "source": [
    "df_2 = df_2.rename(columns={'Order Date': 'Date'})"
   ]
  },
  {
   "cell_type": "code",
   "execution_count": 10,
   "id": "d89096f3",
   "metadata": {},
   "outputs": [],
   "source": [
    "df = df_2"
   ]
  },
  {
   "cell_type": "code",
   "execution_count": 11,
   "id": "5ad80c67",
   "metadata": {},
   "outputs": [
    {
     "data": {
      "text/plain": [
       "Order ID                    object\n",
       "Product                     object\n",
       "Quantity Ordered            object\n",
       "Price Each                  object\n",
       "Date                datetime64[ns]\n",
       "Purchase Address            object\n",
       "dtype: object"
      ]
     },
     "execution_count": 11,
     "metadata": {},
     "output_type": "execute_result"
    }
   ],
   "source": [
    "df['Date'] = pd.to_datetime(df['Date'], errors='coerce')\n",
    "df.dtypes"
   ]
  },
  {
   "cell_type": "markdown",
   "id": "6c7a8613",
   "metadata": {},
   "source": [
    "## Question 2: What are maximum sales by month?"
   ]
  },
  {
   "cell_type": "code",
   "execution_count": 12,
   "id": "34015ad1",
   "metadata": {},
   "outputs": [
    {
     "name": "stdout",
     "output_type": "stream",
     "text": [
      "Month with maximum sales: 12\n",
      "Total sales in that month: 4613443.34\n"
     ]
    }
   ],
   "source": [
    "df['Month'] = df['Date'].dt.month\n",
    "df['Price Each'] = df['Price Each'].astype('float64')\n",
    "df['Quantity Ordered'] = df['Quantity Ordered'].astype('float64')\n",
    "df['Sales'] = df['Price Each'] * df['Quantity Ordered']\n",
    "monthly_sales = df.groupby('Month')['Sales'].sum()\n",
    "max_month = monthly_sales.idxmax()\n",
    "max_sales = monthly_sales.max()\n",
    "print(f\"Month with maximum sales: {max_month}\")\n",
    "print(f\"Total sales in that month: {max_sales}\")"
   ]
  },
  {
   "cell_type": "markdown",
   "id": "0b2e24e5",
   "metadata": {},
   "source": [
    "## Question 3: What are the maximum sales by city?"
   ]
  },
  {
   "cell_type": "code",
   "execution_count": 14,
   "id": "2b31be5f",
   "metadata": {},
   "outputs": [
    {
     "data": {
      "text/plain": [
       "array(['New York City NY', 'San Francisco CA', 'Dallas TX', 'Atlanta GA',\n",
       "       'Boston MA', 'Seattle WA', 'Los Angeles CA', 'Portland OR',\n",
       "       'Austin TX', 'Portland ME'], dtype=object)"
      ]
     },
     "execution_count": 14,
     "metadata": {},
     "output_type": "execute_result"
    }
   ],
   "source": [
    "df['city'] = df['Purchase Address'].str.split(',', expand=True)[1] + df['Purchase Address'].str.split(',', expand=True)[2].str[:3]\n",
    "df['city'] = df['city'].str.strip()\n",
    "df['city'].unique()"
   ]
  },
  {
   "cell_type": "code",
   "execution_count": 15,
   "id": "79694056",
   "metadata": {},
   "outputs": [
    {
     "name": "stdout",
     "output_type": "stream",
     "text": [
      "City with maximum sales: San Francisco CA\n",
      "Total sales in that month: 8262203.91\n"
     ]
    }
   ],
   "source": [
    "monthly_sales = df.groupby('city')['Sales'].sum()\n",
    "max_city = monthly_sales.idxmax()\n",
    "max_sales = monthly_sales.max()\n",
    "print(f\"City with maximum sales: {max_city}\")\n",
    "print(f\"Total sales in that month: {max_sales}\")"
   ]
  },
  {
   "cell_type": "markdown",
   "id": "97da346f",
   "metadata": {},
   "source": [
    "## Question 4: What products are often sold together?"
   ]
  },
  {
   "cell_type": "code",
   "execution_count": 35,
   "id": "3e25105c",
   "metadata": {},
   "outputs": [],
   "source": [
    "df2 = df[df['Order ID'].duplicated(keep=False)]"
   ]
  },
  {
   "cell_type": "code",
   "execution_count": 40,
   "id": "86bcbde7",
   "metadata": {
    "scrolled": true
   },
   "outputs": [
    {
     "data": {
      "text/html": [
       "<div>\n",
       "<style scoped>\n",
       "    .dataframe tbody tr th:only-of-type {\n",
       "        vertical-align: middle;\n",
       "    }\n",
       "\n",
       "    .dataframe tbody tr th {\n",
       "        vertical-align: top;\n",
       "    }\n",
       "\n",
       "    .dataframe thead th {\n",
       "        text-align: right;\n",
       "    }\n",
       "</style>\n",
       "<table border=\"1\" class=\"dataframe\">\n",
       "  <thead>\n",
       "    <tr style=\"text-align: right;\">\n",
       "      <th></th>\n",
       "      <th>Order ID</th>\n",
       "      <th>Grouped</th>\n",
       "    </tr>\n",
       "  </thead>\n",
       "  <tbody>\n",
       "    <tr>\n",
       "      <th>71311</th>\n",
       "      <td>144804</td>\n",
       "      <td>Wired Headphones,iPhone</td>\n",
       "    </tr>\n",
       "    <tr>\n",
       "      <th>74737</th>\n",
       "      <td>148074</td>\n",
       "      <td>USB-C Charging Cable,Google Phone</td>\n",
       "    </tr>\n",
       "    <tr>\n",
       "      <th>75124</th>\n",
       "      <td>148450</td>\n",
       "      <td>Lightning Charging Cable,iPhone</td>\n",
       "    </tr>\n",
       "    <tr>\n",
       "      <th>71176</th>\n",
       "      <td>144679</td>\n",
       "      <td>Google Phone,USB-C Charging Cable</td>\n",
       "    </tr>\n",
       "    <tr>\n",
       "      <th>74084</th>\n",
       "      <td>147451</td>\n",
       "      <td>Google Phone,Wired Headphones</td>\n",
       "    </tr>\n",
       "    <tr>\n",
       "      <th>...</th>\n",
       "      <td>...</td>\n",
       "      <td>...</td>\n",
       "    </tr>\n",
       "    <tr>\n",
       "      <th>73578</th>\n",
       "      <td>146975</td>\n",
       "      <td>Bose SoundSport Headphones,Wired Headphones</td>\n",
       "    </tr>\n",
       "    <tr>\n",
       "      <th>71596</th>\n",
       "      <td>145071</td>\n",
       "      <td>AA Batteries (4-pack),USB-C Charging Cable</td>\n",
       "    </tr>\n",
       "    <tr>\n",
       "      <th>72853</th>\n",
       "      <td>146277</td>\n",
       "      <td>34in Ultrawide Monitor,Flatscreen TV</td>\n",
       "    </tr>\n",
       "    <tr>\n",
       "      <th>69072</th>\n",
       "      <td>142683</td>\n",
       "      <td>Wired Headphones,USB-C Charging Cable</td>\n",
       "    </tr>\n",
       "    <tr>\n",
       "      <th>68769</th>\n",
       "      <td>142396</td>\n",
       "      <td>Vareebadd Phone,USB-C Charging Cable</td>\n",
       "    </tr>\n",
       "  </tbody>\n",
       "</table>\n",
       "<p>100 rows × 2 columns</p>\n",
       "</div>"
      ],
      "text/plain": [
       "      Order ID                                      Grouped\n",
       "71311   144804                      Wired Headphones,iPhone\n",
       "74737   148074            USB-C Charging Cable,Google Phone\n",
       "75124   148450              Lightning Charging Cable,iPhone\n",
       "71176   144679            Google Phone,USB-C Charging Cable\n",
       "74084   147451                Google Phone,Wired Headphones\n",
       "...        ...                                          ...\n",
       "73578   146975  Bose SoundSport Headphones,Wired Headphones\n",
       "71596   145071   AA Batteries (4-pack),USB-C Charging Cable\n",
       "72853   146277         34in Ultrawide Monitor,Flatscreen TV\n",
       "69072   142683        Wired Headphones,USB-C Charging Cable\n",
       "68769   142396         Vareebadd Phone,USB-C Charging Cable\n",
       "\n",
       "[100 rows x 2 columns]"
      ]
     },
     "execution_count": 40,
     "metadata": {},
     "output_type": "execute_result"
    }
   ],
   "source": [
    "df2['Grouped'] = df.groupby('Order ID')['Product'].transform(lambda x: ','.join(x))\n",
    "df2 = df2[['Order ID','Grouped']].drop_duplicates()\n",
    "df2.head(100)"
   ]
  },
  {
   "cell_type": "code",
   "execution_count": 49,
   "id": "90aa5ddb",
   "metadata": {
    "scrolled": true
   },
   "outputs": [
    {
     "name": "stdout",
     "output_type": "stream",
     "text": [
      "Grouped\n",
      "iPhone,iPhone,Lightning Charging Cable                      1\n",
      "LG Washing Machine,Bose SoundSport Headphones               1\n",
      "LG Washing Machine,Google Phone                             1\n",
      "AAA Batteries (4-pack),Apple Airpods Headphones,iPhone      1\n",
      "LG Washing Machine,Lightning Charging Cable                 1\n",
      "                                                         ... \n",
      "iPhone,Wired Headphones                                   203\n",
      "Google Phone,USB-C Charging Cable                         432\n",
      "USB-C Charging Cable,Google Phone                         436\n",
      "iPhone,Lightning Charging Cable                           442\n",
      "Lightning Charging Cable,iPhone                           449\n",
      "Length: 418, dtype: int64\n"
     ]
    }
   ],
   "source": [
    "counts = df2.groupby('Grouped').size().sort_values(ascending=True)\n",
    "print(counts)"
   ]
  },
  {
   "cell_type": "code",
   "execution_count": 45,
   "id": "52f61209",
   "metadata": {},
   "outputs": [],
   "source": [
    "counts.to_csv('repeated_entries_count.csv', index=True)"
   ]
  },
  {
   "cell_type": "markdown",
   "id": "2e748e17",
   "metadata": {},
   "source": [
    "## Question 5: What product sold the most? Why do you think it sold the most?"
   ]
  },
  {
   "cell_type": "code",
   "execution_count": 53,
   "id": "ba28cede",
   "metadata": {},
   "outputs": [
    {
     "data": {
      "text/html": [
       "<div>\n",
       "<style scoped>\n",
       "    .dataframe tbody tr th:only-of-type {\n",
       "        vertical-align: middle;\n",
       "    }\n",
       "\n",
       "    .dataframe tbody tr th {\n",
       "        vertical-align: top;\n",
       "    }\n",
       "\n",
       "    .dataframe thead th {\n",
       "        text-align: right;\n",
       "    }\n",
       "</style>\n",
       "<table border=\"1\" class=\"dataframe\">\n",
       "  <thead>\n",
       "    <tr style=\"text-align: right;\">\n",
       "      <th></th>\n",
       "      <th>Order ID</th>\n",
       "      <th>Product</th>\n",
       "      <th>Quantity Ordered</th>\n",
       "      <th>Price Each</th>\n",
       "      <th>Date</th>\n",
       "      <th>Purchase Address</th>\n",
       "      <th>Month</th>\n",
       "      <th>Sales</th>\n",
       "      <th>city</th>\n",
       "    </tr>\n",
       "  </thead>\n",
       "  <tbody>\n",
       "    <tr>\n",
       "      <th>73891</th>\n",
       "      <td>147268</td>\n",
       "      <td>Wired Headphones</td>\n",
       "      <td>1.0</td>\n",
       "      <td>11.99</td>\n",
       "      <td>2019-01-01 03:07:00</td>\n",
       "      <td>9 Lake St, New York City, NY 10001</td>\n",
       "      <td>1</td>\n",
       "      <td>11.99</td>\n",
       "      <td>New York City NY</td>\n",
       "    </tr>\n",
       "    <tr>\n",
       "      <th>74701</th>\n",
       "      <td>148041</td>\n",
       "      <td>USB-C Charging Cable</td>\n",
       "      <td>1.0</td>\n",
       "      <td>11.95</td>\n",
       "      <td>2019-01-01 03:40:00</td>\n",
       "      <td>760 Church St, San Francisco, CA 94016</td>\n",
       "      <td>1</td>\n",
       "      <td>11.95</td>\n",
       "      <td>San Francisco CA</td>\n",
       "    </tr>\n",
       "    <tr>\n",
       "      <th>76054</th>\n",
       "      <td>149343</td>\n",
       "      <td>Apple Airpods Headphones</td>\n",
       "      <td>1.0</td>\n",
       "      <td>150.00</td>\n",
       "      <td>2019-01-01 04:56:00</td>\n",
       "      <td>735 5th St, New York City, NY 10001</td>\n",
       "      <td>1</td>\n",
       "      <td>150.00</td>\n",
       "      <td>New York City NY</td>\n",
       "    </tr>\n",
       "    <tr>\n",
       "      <th>76708</th>\n",
       "      <td>149964</td>\n",
       "      <td>AAA Batteries (4-pack)</td>\n",
       "      <td>1.0</td>\n",
       "      <td>2.99</td>\n",
       "      <td>2019-01-01 05:53:00</td>\n",
       "      <td>75 Jackson St, Dallas, TX 75001</td>\n",
       "      <td>1</td>\n",
       "      <td>2.99</td>\n",
       "      <td>Dallas TX</td>\n",
       "    </tr>\n",
       "    <tr>\n",
       "      <th>76061</th>\n",
       "      <td>149350</td>\n",
       "      <td>USB-C Charging Cable</td>\n",
       "      <td>2.0</td>\n",
       "      <td>11.95</td>\n",
       "      <td>2019-01-01 06:03:00</td>\n",
       "      <td>943 2nd St, Atlanta, GA 30301</td>\n",
       "      <td>1</td>\n",
       "      <td>23.90</td>\n",
       "      <td>Atlanta GA</td>\n",
       "    </tr>\n",
       "  </tbody>\n",
       "</table>\n",
       "</div>"
      ],
      "text/plain": [
       "      Order ID                   Product  Quantity Ordered  Price Each  \\\n",
       "73891   147268          Wired Headphones               1.0       11.99   \n",
       "74701   148041      USB-C Charging Cable               1.0       11.95   \n",
       "76054   149343  Apple Airpods Headphones               1.0      150.00   \n",
       "76708   149964    AAA Batteries (4-pack)               1.0        2.99   \n",
       "76061   149350      USB-C Charging Cable               2.0       11.95   \n",
       "\n",
       "                     Date                        Purchase Address  Month  \\\n",
       "73891 2019-01-01 03:07:00      9 Lake St, New York City, NY 10001      1   \n",
       "74701 2019-01-01 03:40:00  760 Church St, San Francisco, CA 94016      1   \n",
       "76054 2019-01-01 04:56:00     735 5th St, New York City, NY 10001      1   \n",
       "76708 2019-01-01 05:53:00         75 Jackson St, Dallas, TX 75001      1   \n",
       "76061 2019-01-01 06:03:00           943 2nd St, Atlanta, GA 30301      1   \n",
       "\n",
       "        Sales              city  \n",
       "73891   11.99  New York City NY  \n",
       "74701   11.95  San Francisco CA  \n",
       "76054  150.00  New York City NY  \n",
       "76708    2.99         Dallas TX  \n",
       "76061   23.90        Atlanta GA  "
      ]
     },
     "execution_count": 53,
     "metadata": {},
     "output_type": "execute_result"
    }
   ],
   "source": [
    "df.head()"
   ]
  },
  {
   "cell_type": "code",
   "execution_count": 54,
   "id": "92083b15",
   "metadata": {},
   "outputs": [
    {
     "name": "stdout",
     "output_type": "stream",
     "text": [
      "Product\n",
      "LG Dryer                        646.0\n",
      "LG Washing Machine              666.0\n",
      "Vareebadd Phone                2068.0\n",
      "20in Monitor                   4129.0\n",
      "ThinkPad Laptop                4130.0\n",
      "Macbook Pro Laptop             4728.0\n",
      "Flatscreen TV                  4819.0\n",
      "Google Phone                   5532.0\n",
      "34in Ultrawide Monitor         6199.0\n",
      "27in 4K Gaming Monitor         6244.0\n",
      "iPhone                         6849.0\n",
      "27in FHD Monitor               7550.0\n",
      "Bose SoundSport Headphones    13457.0\n",
      "Apple Airpods Headphones      15661.0\n",
      "Wired Headphones              20557.0\n",
      "Lightning Charging Cable      23217.0\n",
      "USB-C Charging Cable          23975.0\n",
      "AA Batteries (4-pack)         27635.0\n",
      "AAA Batteries (4-pack)        31017.0\n",
      "Name: Quantity Ordered, dtype: float64\n"
     ]
    }
   ],
   "source": [
    "counts2 = df.groupby('Product')['Quantity Ordered'].sum().sort_values(ascending=True)\n",
    "print(counts2)"
   ]
  },
  {
   "cell_type": "code",
   "execution_count": 55,
   "id": "49b277a4",
   "metadata": {},
   "outputs": [
    {
     "data": {
      "text/plain": [
       "count       19.000000\n",
       "mean     11004.157895\n",
       "std       9673.951745\n",
       "min        646.000000\n",
       "25%       4429.000000\n",
       "50%       6244.000000\n",
       "75%      18109.000000\n",
       "max      31017.000000\n",
       "Name: Quantity Ordered, dtype: float64"
      ]
     },
     "execution_count": 55,
     "metadata": {},
     "output_type": "execute_result"
    }
   ],
   "source": [
    "counts2.describe()"
   ]
  }
 ],
 "metadata": {
  "kernelspec": {
   "display_name": "Python 3 (ipykernel)",
   "language": "python",
   "name": "python3"
  },
  "language_info": {
   "codemirror_mode": {
    "name": "ipython",
    "version": 3
   },
   "file_extension": ".py",
   "mimetype": "text/x-python",
   "name": "python",
   "nbconvert_exporter": "python",
   "pygments_lexer": "ipython3",
   "version": "3.11.4"
  }
 },
 "nbformat": 4,
 "nbformat_minor": 5
}
